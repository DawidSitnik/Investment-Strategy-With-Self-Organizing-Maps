{
  "nbformat": 4,
  "nbformat_minor": 0,
  "metadata": {
    "colab": {
      "name": "WMH-extract-features.ipynb",
      "provenance": [],
      "collapsed_sections": [],
      "toc_visible": true
    },
    "kernelspec": {
      "name": "python3",
      "display_name": "Python 3"
    }
  },
  "cells": [
    {
      "cell_type": "code",
      "metadata": {
        "id": "_2PjzofzmHcv"
      },
      "source": [
        "import csv\r\n",
        "import numpy as np\r\n",
        "import pandas as pd"
      ],
      "execution_count": 37,
      "outputs": []
    },
    {
      "cell_type": "code",
      "metadata": {
        "id": "1ZOZh7BHhGa9"
      },
      "source": [
        "HIGH_KEY = ' High'\r\n",
        "LOW_KEY = ' Low'\r\n",
        "CLOSE_KEY =  ' Close/Last'\r\n",
        "DATE_KEY = 'Date' "
      ],
      "execution_count": null,
      "outputs": []
    },
    {
      "cell_type": "markdown",
      "metadata": {
        "id": "MHyaz-Va0IGl"
      },
      "source": [
        "**Exponential Moving Average**\r\n",
        "\r\n",
        "$EMA = price(today) * a + EMA(yesterday) * (1-a)$\r\n",
        "\r\n",
        "$a = \\frac{2}{N+1}$\r\n",
        "\r\n",
        "first EMA equals SMA of time period N"
      ]
    },
    {
      "cell_type": "code",
      "metadata": {
        "id": "MIg6Vxsu0NZp"
      },
      "source": [
        "def EMA(n, p):\r\n",
        "  p_len = len(p)\r\n",
        "  a = 2 / (n + 1)\r\n",
        "\r\n",
        "  emas = []\r\n",
        "  emas.append(np.average(p[p_len-n:p_len])) # SMA as first value\r\n",
        "              \r\n",
        "  for i in range(n, p_len):\r\n",
        "    ema = a*p[p_len-i-1] + (1-a)*emas[0]\r\n",
        "    emas.insert(0, ema)\r\n",
        "\r\n",
        "  return emas\r\n",
        "\r\n"
      ],
      "execution_count": 54,
      "outputs": []
    },
    {
      "cell_type": "markdown",
      "metadata": {
        "id": "KQK2T4jhmPM5"
      },
      "source": [
        "**RoR**\r\n",
        "\r\n",
        "$RoR = \\ln{\\frac{p_t}{p_{t-n}}}$"
      ]
    },
    {
      "cell_type": "code",
      "metadata": {
        "id": "rEwFZYD42DOd"
      },
      "source": [
        "def RoR (pt, pt_):\r\n",
        "  return np.log(pt/pt_)"
      ],
      "execution_count": 39,
      "outputs": []
    },
    {
      "cell_type": "markdown",
      "metadata": {
        "id": "pZM52aNb7qgR"
      },
      "source": [
        "**Gradient a of the price trend**\r\n",
        "\r\n",
        "$a= \\frac{\\sum_ {t=1}^n (t-\\bar{t}) (p_{t}-\\bar{p})}{\\sum_ {t=1}^n (t-\\bar{t})^2}$\r\n",
        "\r\n",
        "where is the index of the time instant ,\r\n",
        "are the corresponding stock prices and are average values of t and p, respectively"
      ]
    },
    {
      "cell_type": "code",
      "metadata": {
        "id": "AndMQScB5Cif"
      },
      "source": [
        "def grad_price_trend(p):\r\n",
        "  n = len(p)\r\n",
        "  n_avg = np.average(range(1, n+1))\r\n",
        "  p_avg = np.average(p)\r\n",
        "\r\n",
        "  numerator = 0\r\n",
        "  denominator = 0\r\n",
        "  for i in range(1, n+1):\r\n",
        "    numerator += (i - n_avg)*(p[p.index[0] + i-1] - p_avg)\r\n",
        "    denominator += (i - n_avg)**2\r\n",
        "\r\n",
        "  return numerator/denominator"
      ],
      "execution_count": 107,
      "outputs": []
    },
    {
      "cell_type": "markdown",
      "metadata": {
        "id": "cboyp1y2JcOB"
      },
      "source": [
        "**Relative Strength Index**\r\n",
        "\r\n",
        "$RSI = 100 - \\frac{100}{1 + RS}$\r\n",
        "\r\n",
        "$RS = \\frac{EMA(U)}{EMA(D)}$"
      ]
    },
    {
      "cell_type": "code",
      "metadata": {
        "id": "KVmmuFijJYOH"
      },
      "source": [
        "def RSI(n, p):\r\n",
        "  U = [] # gain\r\n",
        "  D = [] # loss\r\n",
        "  for i in range(len(p) - 1):\r\n",
        "    if p[i] == p[i+1]:\r\n",
        "      U.append(0); D.append(0)\r\n",
        "    else:\r\n",
        "      if p[i] > p[i+1]:\r\n",
        "        U.append (p[i] - p[i+1]); D.append(0)\r\n",
        "      else:\r\n",
        "        U.append(0); D.append(p[i+1] - p[i])\r\n",
        "\r\n",
        "\r\n",
        "  if not D:\r\n",
        "    return 100;\r\n",
        "  if not U:\r\n",
        "    return 0;\r\n",
        "\r\n",
        "  U_ema = EMA(n,U)\r\n",
        "  D_ema = EMA(n,D)\r\n",
        "\r\n",
        "  RS = np.divide(U_ema,D_ema)\r\n",
        "\r\n",
        "  return 100 - 100/(1 + RS)"
      ],
      "execution_count": 53,
      "outputs": []
    },
    {
      "cell_type": "markdown",
      "metadata": {
        "id": "8_n-XsyQmZT8"
      },
      "source": [
        "**MACD**\r\n",
        "\r\n",
        "MACD = EMA for 12 days - EMA for 26 days"
      ]
    },
    {
      "cell_type": "code",
      "metadata": {
        "id": "qKZi2nLdmc7q"
      },
      "source": [
        "def MACD(p):\r\n",
        "  ema26 = EMA(26, p)\r\n",
        "  ema12 = EMA(12, p)[0:len(ema26)] \r\n",
        "\r\n",
        "  return np.subtract(ema12,ema26)\r\n"
      ],
      "execution_count": 42,
      "outputs": []
    },
    {
      "cell_type": "markdown",
      "metadata": {
        "id": "HMaCtZpZgGWG"
      },
      "source": [
        "**Commodity Channel Index**\r\n",
        "\r\n",
        "$CCI = \\frac{Typical Price - MA}{0.015 * Mean Deviation}$\r\n",
        "\r\n",
        "$Typical Price = \\sum_{i=1}^N (High + Low + Close)/3$\r\n",
        "\r\n",
        "N - number of periods (20)\r\n",
        "$MA = Moving Average = (\\sum_{i=1}^N Typical Price)/N$\r\n",
        "\r\n",
        "$Mean Deviation = (\\sum_{i=1}^N |Typical Price - MA|)/N$"
      ]
    },
    {
      "cell_type": "code",
      "metadata": {
        "id": "sXQs3DcfgKvJ"
      },
      "source": [
        "def CCI(p, h, l):\r\n",
        "  typical_price = np.add(np.add(p, h), l)/3\r\n",
        "  MA = np.average(typical_price)\r\n",
        "  mean_deviation = np.average(np.abs(typical_price - MA))\r\n",
        "  result = (typical_price[typical_price.index[0]] - MA)/(0.015 * mean_deviation)\r\n",
        "  return result"
      ],
      "execution_count": 190,
      "outputs": []
    },
    {
      "cell_type": "markdown",
      "metadata": {
        "id": "NysOgYSIpjZ2"
      },
      "source": [
        "**Calculate all features**"
      ]
    },
    {
      "cell_type": "code",
      "metadata": {
        "id": "W6kPu8t7oYQQ"
      },
      "source": [
        "def calculate_features(d):\r\n",
        "  d.add\r\n",
        "  \r\n",
        "  features = []\r\n",
        "  for i in range(19):\r\n",
        "    features.append([])\r\n",
        "  print(features)\r\n",
        "\r\n",
        "  # Relative Strength Index for 14 days\r\n",
        "  features[14] = RSI(14, d.get(CLOSE_KEY))[0:len(d.get(CLOSE_KEY)) - 26]\r\n",
        "  features[15] = MACD(d.get(CLOSE_KEY))[0:len(d.get(CLOSE_KEY)) - 26]\r\n",
        "\r\n",
        "  for i in range(len(d.get(CLOSE_KEY)) - 26):\r\n",
        "    features[1].append(RoR (d.get(CLOSE_KEY)[i], d.get(CLOSE_KEY)[i+1]))\r\n",
        "    features[2].append(RoR (d.get(CLOSE_KEY)[i+1], d.get(CLOSE_KEY)[i+2]))\r\n",
        "    features[3].append(RoR (d.get(CLOSE_KEY)[i+2], d.get(CLOSE_KEY)[i+3]))\r\n",
        "    features[4].append(RoR (d.get(CLOSE_KEY)[i+3], d.get(CLOSE_KEY)[i+4]))\r\n",
        "\r\n",
        "    features[5].append(RoR (d.get(CLOSE_KEY)[i], d.get(CLOSE_KEY)[i+2]))\r\n",
        "    features[6].append(RoR (d.get(CLOSE_KEY)[i+1], d.get(CLOSE_KEY)[i+3]))\r\n",
        "\r\n",
        "    # gradient of 5-day price trend\r\n",
        "    features[7].append(grad_price_trend(d.get(CLOSE_KEY).take(range(i,i+5))))\r\n",
        "    features[8].append(grad_price_trend(d.get(CLOSE_KEY).take(range(i+5,i+10))))\r\n",
        "    # gradient of 10-day price trend\r\n",
        "    features[9].append(grad_price_trend(d.get(CLOSE_KEY).take(range(i,i+10))))\r\n",
        "\r\n",
        "    features[10].append(features[1][i] - features[2][i])\r\n",
        "    features[11].append(features[1][i] - features[3][i])\r\n",
        "\r\n",
        "    # dynamics of change for gradient of 5-day logarithmic price trend\r\n",
        "    features[12].append(RoR (features[7][i], features[8][i])) # ???\r\n",
        "    features[13].append(features[9][i] - features[7][i]) # ???\r\n",
        "\r\n",
        "    # f14 = RSI[i]\r\n",
        "    # f15 = MACD[i]\r\n",
        "\r\n",
        "    features[16].append(d.get(CLOSE_KEY)[i] - np.average(d.get(CLOSE_KEY).take(range(i+1,i+13))))\r\n",
        "\r\n",
        "    # 14-day rate of change \r\n",
        "    features[17].append((d.get(CLOSE_KEY)[i] - d.get(CLOSE_KEY)[i+14])/d.get(CLOSE_KEY)[i+14])\r\n",
        "\r\n",
        "    features[18].append(CCI(d.get(CLOSE_KEY).take(range(i,i+20)), d.get(HIGH_KEY).take(range(i,i+20)), d.get(LOW_KEY).take(range(i,i+20))))\r\n",
        "\r\n",
        "  result = {\r\n",
        "      DATE_KEY: d.get(DATE_KEY).take(range(0,len(d.get(CLOSE_KEY)) - 26)),\r\n",
        "      DATE_KEY: d.get(DATE_KEY).take(range(0,len(d.get(CLOSE_KEY)) - 26)),\r\n",
        "      CLOSE_KEY: d.get(CLOSE_KEY).take(range(0,len(d.get(CLOSE_KEY)) - 26)),\r\n",
        "      HIGH_KEY: d.get(HIGH_KEY).take(range(0,len(d.get(CLOSE_KEY)) - 26)),\r\n",
        "      LOW_KEY: d.get(LOW_KEY).take(range(0,len(d.get(CLOSE_KEY)) - 26))\r\n",
        "  }\r\n",
        "\r\n",
        "  for i in range(1,19):\r\n",
        "    result['f'+str(i)] = features[i]\r\n",
        "  print(type(result))\r\n",
        "  print(pd.DataFrame(data=result))\r\n",
        "  return pd.DataFrame(data=result)\r\n",
        "    \r\n"
      ],
      "execution_count": 179,
      "outputs": []
    },
    {
      "cell_type": "code",
      "metadata": {
        "colab": {
          "base_uri": "https://localhost:8080/"
        },
        "id": "Aua2UXwfqVlv",
        "outputId": "51c5430d-2381-4b47-90d9-09d92170cb64"
      },
      "source": [
        "def read_and_extract_features(input, output):\r\n",
        "  df = pd.read_csv (input)\r\n",
        "  df[CLOSE_KEY] = df[CLOSE_KEY].copy().apply(lambda x: float(x[2:]))\r\n",
        "  df[HIGH_KEY] = df[HIGH_KEY].copy().apply(lambda x: float(x[2:]))\r\n",
        "  df[LOW_KEY] = df[LOW_KEY].copy().apply(lambda x: float(x[2:]))\r\n",
        "  print(df)\r\n",
        "\r\n",
        "  features = calculate_features(df)\r\n",
        "  features.to_csv(output)\r\n",
        "\r\n",
        "read_and_extract_features('HistoricalQuotes.csv', 'features-BIDU-5y.csv')"
      ],
      "execution_count": 191,
      "outputs": [
        {
          "output_type": "stream",
          "text": [
            "            Date   Close/Last   Volume      Open      High       Low\n",
            "0     12/11/2020       161.24  6179815   $158.03  163.4000  157.6800\n",
            "1     12/10/2020       158.32  5265865   $154.12  158.8000  151.7300\n",
            "2     12/09/2020       151.59  6953750      $148  156.5631  147.0100\n",
            "3     12/08/2020       144.99  3886697   $146.61  147.0700  143.5000\n",
            "4     12/07/2020       144.30  2302886   $143.73  145.2000  142.5400\n",
            "...          ...          ...      ...       ...       ...       ...\n",
            "1254  12/18/2015       191.92  3482011   $195.54  196.3753  190.8800\n",
            "1255  12/17/2015       196.94  2744170   $200.72  201.2610  196.8200\n",
            "1256  12/16/2015       199.34  3274416   $201.07  201.3000  197.1111\n",
            "1257  12/15/2015       199.13  3640095      $196  200.8900  195.2400\n",
            "1258  12/14/2015       193.89  3226387   $193.89  196.0900  193.3200\n",
            "\n",
            "[1259 rows x 6 columns]\n",
            "[[], [], [], [], [], [], [], [], [], [], [], [], [], [], [], [], [], [], []]\n"
          ],
          "name": "stdout"
        },
        {
          "output_type": "stream",
          "text": [
            "/usr/local/lib/python3.6/dist-packages/ipykernel_launcher.py:2: RuntimeWarning: invalid value encountered in log\n",
            "  \n"
          ],
          "name": "stderr"
        },
        {
          "output_type": "stream",
          "text": [
            "<class 'dict'>\n",
            "            Date   Close/Last      High  ...        f16       f17         f18\n",
            "0     12/11/2020       161.24  163.4000  ...  17.886667  0.184630  223.835410\n",
            "1     12/10/2020       158.32  158.8000  ...  17.073333  0.160023  208.812402\n",
            "2     12/09/2020       151.59  156.5631  ...  11.633333  0.067009  172.894826\n",
            "3     12/08/2020       144.99  147.0700  ...   5.742500  0.007435   76.016080\n",
            "4     12/07/2020       144.30  145.2000  ...   5.238333 -0.023945   54.284318\n",
            "...          ...          ...       ...  ...        ...       ...         ...\n",
            "1228  01/28/2016       156.94  162.7800  ... -10.569167 -0.099960 -126.986665\n",
            "1229  01/27/2016       158.27  167.9100  ... -10.328333 -0.147298 -105.018416\n",
            "1230  01/26/2016       167.08  168.3600  ...  -2.125833 -0.108288  -74.144197\n",
            "1231  01/25/2016       167.54  173.7400  ...  -3.171667 -0.089605  -55.403515\n",
            "1232  01/22/2016       171.17  174.7700  ...  -0.891667 -0.094530  -47.575141\n",
            "\n",
            "[1233 rows x 22 columns]\n"
          ],
          "name": "stdout"
        }
      ]
    }
  ]
}