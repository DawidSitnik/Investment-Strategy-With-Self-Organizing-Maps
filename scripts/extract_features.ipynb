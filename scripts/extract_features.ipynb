{
 "cells": [
  {
   "cell_type": "code",
   "execution_count": 1,
   "metadata": {
    "id": "_2PjzofzmHcv"
   },
   "outputs": [],
   "source": [
    "import csv\n",
    "import numpy as np\n",
    "import pandas as pd"
   ]
  },
  {
   "cell_type": "code",
   "execution_count": 2,
   "metadata": {
    "id": "1ZOZh7BHhGa9"
   },
   "outputs": [],
   "source": [
    "HIGH_KEY = ' High'\n",
    "LOW_KEY = ' Low'\n",
    "CLOSE_KEY =  ' Close/Last'\n",
    "DATE_KEY = 'Date' "
   ]
  },
  {
   "cell_type": "markdown",
   "metadata": {
    "id": "MHyaz-Va0IGl"
   },
   "source": [
    "**Exponential Moving Average**\n",
    "\n",
    "$EMA = price(today) * a + EMA(yesterday) * (1-a)$\n",
    "\n",
    "$a = \\frac{2}{N+1}$\n",
    "\n",
    "first EMA equals SMA of time period N"
   ]
  },
  {
   "cell_type": "code",
   "execution_count": 3,
   "metadata": {
    "id": "MIg6Vxsu0NZp"
   },
   "outputs": [],
   "source": [
    "def EMA(n, p):\n",
    "  p_len = len(p)\n",
    "  a = 2 / (n + 1)\n",
    "\n",
    "  emas = []\n",
    "  emas.append(np.average(p[p_len-n:p_len])) # SMA as first value\n",
    "              \n",
    "  for i in range(n, p_len):\n",
    "    ema = a*p[p_len-i-1] + (1-a)*emas[0]\n",
    "    emas.insert(0, ema)\n",
    "\n",
    "  return emas\n",
    "\n"
   ]
  },
  {
   "cell_type": "markdown",
   "metadata": {
    "id": "KQK2T4jhmPM5"
   },
   "source": [
    "**RoR**\n",
    "\n",
    "$RoR = \\ln{\\frac{p_t}{p_{t-n}}}$"
   ]
  },
  {
   "cell_type": "code",
   "execution_count": 4,
   "metadata": {
    "id": "rEwFZYD42DOd"
   },
   "outputs": [],
   "source": [
    "def RoR (pt, pt_):\n",
    "  return np.log(pt/pt_)"
   ]
  },
  {
   "cell_type": "markdown",
   "metadata": {
    "id": "pZM52aNb7qgR"
   },
   "source": [
    "**Gradient a of the price trend**\n",
    "\n",
    "$a= \\frac{\\sum_ {t=1}^n (t-\\bar{t}) (p_{t}-\\bar{p})}{\\sum_ {t=1}^n (t-\\bar{t})^2}$\n",
    "\n",
    "where is the index of the time instant ,\n",
    "are the corresponding stock prices and are average values of t and p, respectively"
   ]
  },
  {
   "cell_type": "code",
   "execution_count": 5,
   "metadata": {
    "id": "AndMQScB5Cif"
   },
   "outputs": [],
   "source": [
    "def grad_price_trend(p):\n",
    "  n = len(p)\n",
    "  n_avg = np.average(range(1, n+1))\n",
    "  p_avg = np.average(p)\n",
    "\n",
    "  numerator = 0\n",
    "  denominator = 0\n",
    "  for i in range(1, n+1):\n",
    "    numerator += (i - n_avg)*(p[p.index[0] + i-1] - p_avg)\n",
    "    denominator += (i - n_avg)**2\n",
    "\n",
    "  return numerator/denominator"
   ]
  },
  {
   "cell_type": "markdown",
   "metadata": {
    "id": "cboyp1y2JcOB"
   },
   "source": [
    "**Relative Strength Index**\n",
    "\n",
    "$RSI = 100 - \\frac{100}{1 + RS}$\n",
    "\n",
    "$RS = \\frac{EMA(U)}{EMA(D)}$"
   ]
  },
  {
   "cell_type": "code",
   "execution_count": 6,
   "metadata": {
    "id": "KVmmuFijJYOH"
   },
   "outputs": [],
   "source": [
    "def RSI(n, p):\n",
    "  U = [] # gain\n",
    "  D = [] # loss\n",
    "  for i in range(len(p) - 1):\n",
    "    if p[i] == p[i+1]:\n",
    "      U.append(0); D.append(0)\n",
    "    else:\n",
    "      if p[i] > p[i+1]:\n",
    "        U.append (p[i] - p[i+1]); D.append(0)\n",
    "      else:\n",
    "        U.append(0); D.append(p[i+1] - p[i])\n",
    "\n",
    "\n",
    "  if not D:\n",
    "    return 100;\n",
    "  if not U:\n",
    "    return 0;\n",
    "\n",
    "  U_ema = EMA(n,U)\n",
    "  D_ema = EMA(n,D)\n",
    "\n",
    "  RS = np.divide(U_ema,D_ema)\n",
    "\n",
    "  return 100 - 100/(1 + RS)"
   ]
  },
  {
   "cell_type": "markdown",
   "metadata": {
    "id": "8_n-XsyQmZT8"
   },
   "source": [
    "**MACD**\n",
    "\n",
    "MACD = EMA for 12 days - EMA for 26 days"
   ]
  },
  {
   "cell_type": "code",
   "execution_count": 7,
   "metadata": {
    "id": "qKZi2nLdmc7q"
   },
   "outputs": [],
   "source": [
    "def MACD(p):\n",
    "  ema26 = EMA(26, p)\n",
    "  ema12 = EMA(12, p)[0:len(ema26)] \n",
    "\n",
    "  return np.subtract(ema12,ema26)\n"
   ]
  },
  {
   "cell_type": "markdown",
   "metadata": {
    "id": "HMaCtZpZgGWG"
   },
   "source": [
    "**Commodity Channel Index**\n",
    "\n",
    "$CCI = \\frac{Typical Price - MA}{0.015 * Mean Deviation}$\n",
    "\n",
    "$Typical Price = \\sum_{i=1}^N (High + Low + Close)/3$\n",
    "\n",
    "N - number of periods (20)\n",
    "$MA = Moving Average = (\\sum_{i=1}^N Typical Price)/N$\n",
    "\n",
    "$Mean Deviation = (\\sum_{i=1}^N |Typical Price - MA|)/N$"
   ]
  },
  {
   "cell_type": "code",
   "execution_count": 8,
   "metadata": {
    "id": "sXQs3DcfgKvJ"
   },
   "outputs": [],
   "source": [
    "def CCI(p, h, l):\n",
    "  typical_price = np.add(np.add(p, h), l)/3\n",
    "  MA = np.average(typical_price)\n",
    "  mean_deviation = np.average(np.abs(typical_price - MA))\n",
    "  result = (typical_price[typical_price.index[0]] - MA)/(0.015 * mean_deviation)\n",
    "  return result"
   ]
  },
  {
   "cell_type": "markdown",
   "metadata": {
    "id": "NysOgYSIpjZ2"
   },
   "source": [
    "**Calculate all features**"
   ]
  },
  {
   "cell_type": "code",
   "execution_count": 9,
   "metadata": {
    "id": "W6kPu8t7oYQQ"
   },
   "outputs": [],
   "source": [
    "def calculate_features(d):\n",
    "  d.add\n",
    "  \n",
    "  features = []\n",
    "  for i in range(17):\n",
    "    features.append([])\n",
    "  print(features)\n",
    "\n",
    "  # Relative Strength Index for 14 days\n",
    "  features[14] = RSI(14, d.get(CLOSE_KEY))[0:len(d.get(CLOSE_KEY)) - 26]\n",
    "  features[15] = MACD(d.get(CLOSE_KEY))[0:len(d.get(CLOSE_KEY)) - 26]\n",
    "\n",
    "  for i in range(len(d.get(CLOSE_KEY)) - 26):\n",
    "    features[1].append(RoR (d.get(CLOSE_KEY)[i], d.get(CLOSE_KEY)[i+1]))\n",
    "    features[2].append(RoR (d.get(CLOSE_KEY)[i+1], d.get(CLOSE_KEY)[i+2]))\n",
    "    features[3].append(RoR (d.get(CLOSE_KEY)[i+2], d.get(CLOSE_KEY)[i+3]))\n",
    "    features[4].append(RoR (d.get(CLOSE_KEY)[i+3], d.get(CLOSE_KEY)[i+4]))\n",
    "\n",
    "    features[5].append(RoR (d.get(CLOSE_KEY)[i], d.get(CLOSE_KEY)[i+2]))\n",
    "    features[6].append(RoR (d.get(CLOSE_KEY)[i+1], d.get(CLOSE_KEY)[i+3]))\n",
    "\n",
    "    # gradient of 5-day price trend\n",
    "    features[7].append(grad_price_trend(d.get(CLOSE_KEY).take(range(i,i+5))))\n",
    "    features[8].append(grad_price_trend(d.get(CLOSE_KEY).take(range(i+5,i+10))))\n",
    "    # gradient of 10-day price trend\n",
    "    features[9].append(grad_price_trend(d.get(CLOSE_KEY).take(range(i,i+10))))\n",
    "\n",
    "    features[10].append(features[1][i] - features[2][i])\n",
    "    features[11].append(features[1][i] - features[3][i])\n",
    "\n",
    "    # f12 = RSI[i]\n",
    "    # f13 = MACD[i]\n",
    "\n",
    "    features[14].append(d.get(CLOSE_KEY)[i] - np.average(d.get(CLOSE_KEY).take(range(i+1,i+13))))\n",
    "\n",
    "    # 14-day rate of change \n",
    "    features[15].append((d.get(CLOSE_KEY)[i] - d.get(CLOSE_KEY)[i+14])/d.get(CLOSE_KEY)[i+14])\n",
    "\n",
    "    features[16].append(CCI(d.get(CLOSE_KEY).take(range(i,i+20)), d.get(HIGH_KEY).take(range(i,i+20)), d.get(LOW_KEY).take(range(i,i+20))))\n",
    "\n",
    "  result = {\n",
    "      DATE_KEY: d.get(DATE_KEY).take(range(0,len(d.get(CLOSE_KEY)) - 26)),\n",
    "      DATE_KEY: d.get(DATE_KEY).take(range(0,len(d.get(CLOSE_KEY)) - 26)),\n",
    "      CLOSE_KEY: d.get(CLOSE_KEY).take(range(0,len(d.get(CLOSE_KEY)) - 26)),\n",
    "      HIGH_KEY: d.get(HIGH_KEY).take(range(0,len(d.get(CLOSE_KEY)) - 26)),\n",
    "      LOW_KEY: d.get(LOW_KEY).take(range(0,len(d.get(CLOSE_KEY)) - 26))\n",
    "  }\n",
    "\n",
    "  for i in range(1,17):\n",
    "    result['f'+str(i)] = features[i]\n",
    "  print(type(result))\n",
    "  print(pd.DataFrame(data=result))\n",
    "  return pd.DataFrame(data=result)\n",
    "    \n"
   ]
  },
  {
   "cell_type": "code",
   "execution_count": 191,
   "metadata": {
    "colab": {
     "base_uri": "https://localhost:8080/"
    },
    "id": "Aua2UXwfqVlv",
    "outputId": "51c5430d-2381-4b47-90d9-09d92170cb64"
   },
   "outputs": [
    {
     "name": "stdout",
     "output_type": "stream",
     "text": [
      "            Date   Close/Last   Volume      Open      High       Low\n",
      "0     12/11/2020       161.24  6179815   $158.03  163.4000  157.6800\n",
      "1     12/10/2020       158.32  5265865   $154.12  158.8000  151.7300\n",
      "2     12/09/2020       151.59  6953750      $148  156.5631  147.0100\n",
      "3     12/08/2020       144.99  3886697   $146.61  147.0700  143.5000\n",
      "4     12/07/2020       144.30  2302886   $143.73  145.2000  142.5400\n",
      "...          ...          ...      ...       ...       ...       ...\n",
      "1254  12/18/2015       191.92  3482011   $195.54  196.3753  190.8800\n",
      "1255  12/17/2015       196.94  2744170   $200.72  201.2610  196.8200\n",
      "1256  12/16/2015       199.34  3274416   $201.07  201.3000  197.1111\n",
      "1257  12/15/2015       199.13  3640095      $196  200.8900  195.2400\n",
      "1258  12/14/2015       193.89  3226387   $193.89  196.0900  193.3200\n",
      "\n",
      "[1259 rows x 6 columns]\n",
      "[[], [], [], [], [], [], [], [], [], [], [], [], [], [], [], [], [], [], []]\n"
     ]
    },
    {
     "name": "stderr",
     "output_type": "stream",
     "text": [
      "/usr/local/lib/python3.6/dist-packages/ipykernel_launcher.py:2: RuntimeWarning: invalid value encountered in log\n",
      "  \n"
     ]
    },
    {
     "name": "stdout",
     "output_type": "stream",
     "text": [
      "<class 'dict'>\n",
      "            Date   Close/Last      High  ...        f16       f17         f18\n",
      "0     12/11/2020       161.24  163.4000  ...  17.886667  0.184630  223.835410\n",
      "1     12/10/2020       158.32  158.8000  ...  17.073333  0.160023  208.812402\n",
      "2     12/09/2020       151.59  156.5631  ...  11.633333  0.067009  172.894826\n",
      "3     12/08/2020       144.99  147.0700  ...   5.742500  0.007435   76.016080\n",
      "4     12/07/2020       144.30  145.2000  ...   5.238333 -0.023945   54.284318\n",
      "...          ...          ...       ...  ...        ...       ...         ...\n",
      "1228  01/28/2016       156.94  162.7800  ... -10.569167 -0.099960 -126.986665\n",
      "1229  01/27/2016       158.27  167.9100  ... -10.328333 -0.147298 -105.018416\n",
      "1230  01/26/2016       167.08  168.3600  ...  -2.125833 -0.108288  -74.144197\n",
      "1231  01/25/2016       167.54  173.7400  ...  -3.171667 -0.089605  -55.403515\n",
      "1232  01/22/2016       171.17  174.7700  ...  -0.891667 -0.094530  -47.575141\n",
      "\n",
      "[1233 rows x 22 columns]\n"
     ]
    }
   ],
   "source": [
    "def read_and_extract_features(input, output):\n",
    "  df = pd.read_csv (input)\n",
    "  df[CLOSE_KEY] = df[CLOSE_KEY].copy().apply(lambda x: float(x[2:]))\n",
    "  df[HIGH_KEY] = df[HIGH_KEY].copy().apply(lambda x: float(x[2:]))\n",
    "  df[LOW_KEY] = df[LOW_KEY].copy().apply(lambda x: float(x[2:]))\n",
    "  print(df)\n",
    "\n",
    "  features = calculate_features(df)\n",
    "  features.to_csv(output)\n",
    "\n",
    "read_and_extract_features('HistoricalQuotes.csv', 'features-BIDU-5y.csv')"
   ]
  }
 ],
 "metadata": {
  "colab": {
   "collapsed_sections": [],
   "name": "WMH-extract-features.ipynb",
   "provenance": [],
   "toc_visible": true
  },
  "kernelspec": {
   "display_name": "Python 3",
   "language": "python",
   "name": "python3"
  },
  "language_info": {
   "codemirror_mode": {
    "name": "ipython",
    "version": 3
   },
   "file_extension": ".py",
   "mimetype": "text/x-python",
   "name": "python",
   "nbconvert_exporter": "python",
   "pygments_lexer": "ipython3",
   "version": "3.8.6"
  }
 },
 "nbformat": 4,
 "nbformat_minor": 1
}